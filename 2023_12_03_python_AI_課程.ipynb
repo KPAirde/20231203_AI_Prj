{
  "nbformat": 4,
  "nbformat_minor": 0,
  "metadata": {
    "colab": {
      "provenance": [],
      "authorship_tag": "ABX9TyPgk9HJiXmJ7On5wrAjJ5c5",
      "include_colab_link": true
    },
    "kernelspec": {
      "name": "python3",
      "display_name": "Python 3"
    },
    "language_info": {
      "name": "python"
    }
  },
  "cells": [
    {
      "cell_type": "markdown",
      "metadata": {
        "id": "view-in-github",
        "colab_type": "text"
      },
      "source": [
        "<a href=\"https://colab.research.google.com/github/KPAirde/20231203_AI_Prj/blob/main/2023_12_03_python_AI_%E8%AA%B2%E7%A8%8B.ipynb\" target=\"_parent\"><img src=\"https://colab.research.google.com/assets/colab-badge.svg\" alt=\"Open In Colab\"/></a>"
      ]
    },
    {
      "cell_type": "markdown",
      "source": [
        "Latex Math\n",
        "(\\ 符號 永遠代表開始使用特殊符號)\n",
        "(frac 代表除號)\n",
        "(sum 就會顯示成 sigma)\n",
        "\n",
        "$ area = \\frac{1} {2} \\sum_{i=1}^{n} w_i h_i \\ $"
      ],
      "metadata": {
        "id": "5n70Y6OgS_sB"
      }
    },
    {
      "cell_type": "code",
      "source": [],
      "metadata": {
        "id": "Re1NNbV9Tj5Y"
      },
      "execution_count": null,
      "outputs": []
    },
    {
      "cell_type": "code",
      "source": [],
      "metadata": {
        "id": "VLS_BZMyTj2Z"
      },
      "execution_count": null,
      "outputs": []
    },
    {
      "cell_type": "code",
      "execution_count": 2,
      "metadata": {
        "colab": {
          "base_uri": "https://localhost:8080/"
        },
        "id": "KdZcLet7Q93F",
        "outputId": "7adb8023-a64f-4c9b-8f86-590d9c7a1da1"
      },
      "outputs": [
        {
          "output_type": "execute_result",
          "data": {
            "text/plain": [
              "3"
            ]
          },
          "metadata": {},
          "execution_count": 2
        }
      ],
      "source": [
        "a=3\n",
        "a"
      ]
    },
    {
      "cell_type": "code",
      "source": [
        "a+2\n",
        "a"
      ],
      "metadata": {
        "colab": {
          "base_uri": "https://localhost:8080/"
        },
        "id": "MuxJdgW8SFlr",
        "outputId": "9694c91a-7aeb-46ca-9503-66542595b3de"
      },
      "execution_count": 3,
      "outputs": [
        {
          "output_type": "execute_result",
          "data": {
            "text/plain": [
              "3"
            ]
          },
          "metadata": {},
          "execution_count": 3
        }
      ]
    }
  ]
}